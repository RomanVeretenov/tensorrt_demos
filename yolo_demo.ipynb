{
 "cells": [
  {
   "cell_type": "code",
   "execution_count": 40,
   "id": "a0f35778-da41-4fe6-b204-520fbdc30d0e",
   "metadata": {},
   "outputs": [],
   "source": [
    "import os\n",
    "import argparse\n",
    "\n",
    "import cv2\n",
    "import pycuda.autoinit  # This is needed for initializing CUDA driver\n",
    "\n",
    "from utils.yolo_classes import get_cls_dict\n",
    "from utils.visualization import BBoxVisualization\n",
    "from utils.yolo_with_plugins import TrtYOLO\n",
    "from pathlib import Path\n",
    "from matplotlib import pyplot as plt\n",
    "import time\n",
    "from tqdm import tqdm as tqdm_pb\n",
    "import numpy as np"
   ]
  },
  {
   "cell_type": "code",
   "execution_count": 44,
   "id": "2484d125-2add-4044-8661-ca8c4ba2fb9c",
   "metadata": {},
   "outputs": [],
   "source": [
    "people_model_416 = {\n",
    "    \"names\": Path(\"./blurring/common/yolov4-tiny.names\").read_text().split(),\n",
    "    \"trt_path\": \"./blurring/common/416/yolov4-tiny.trt\"\n",
    "}\n",
    "people_model_640 = {\n",
    "    \"names\": Path(\"./blurring/common/yolov4-tiny.names\").read_text().split(),\n",
    "    \"trt_path\": \"./blurring/common/640/yolov4-tiny.trt\"\n",
    "}\n",
    "\n",
    "lp_model_fullhd = {\n",
    "    \"names\": [\"lp\"],\n",
    "    \"trt_path\": \"./blurring/lp/fullhd/yolov4.trt\"\n",
    "}\n",
    "lp_model_960 = {\n",
    "    \"names\": [\"lp\"],\n",
    "    \"trt_path\": \"./blurring/lp/960/yolov4.trt\"\n",
    "}\n"
   ]
  },
  {
   "cell_type": "code",
   "execution_count": 58,
   "id": "0b6e8a20-527b-4d0d-b9ad-2cbfe763d8a9",
   "metadata": {},
   "outputs": [
    {
     "name": "stdout",
     "output_type": "stream",
     "text": [
      "[04/04/2024-08:31:24] [TRT] [I] The logger passed into createInferRuntime differs from one already provided for an existing builder, runtime, or refitter. Uses of the global logger, returned by nvinfer1::getLogger(), will return the existing value.\n",
      "\n",
      "[04/04/2024-08:31:24] [TRT] [I] Loaded engine size: 12 MiB\n",
      "[04/04/2024-08:31:24] [TRT] [I] [MemUsageChange] Init cuBLAS/cuBLASLt: CPU +0, GPU +0, now: CPU 991, GPU 10005 (MiB)\n",
      "[04/04/2024-08:31:24] [TRT] [I] [MemUsageChange] Init cuDNN: CPU +0, GPU +0, now: CPU 991, GPU 10005 (MiB)\n",
      "[04/04/2024-08:31:24] [TRT] [I] [MemUsageChange] TensorRT-managed allocation in engine deserialization: CPU +1, GPU +11, now: CPU 1, GPU 562 (MiB)\n",
      "[04/04/2024-08:31:24] [TRT] [I] [MemUsageChange] Init cuBLAS/cuBLASLt: CPU +0, GPU +0, now: CPU 979, GPU 10005 (MiB)\n",
      "[04/04/2024-08:31:24] [TRT] [I] [MemUsageChange] Init cuDNN: CPU +0, GPU +0, now: CPU 979, GPU 10005 (MiB)\n",
      "[04/04/2024-08:31:24] [TRT] [I] [MemUsageChange] TensorRT-managed allocation in IExecutionContext creation: CPU +0, GPU +4, now: CPU 1, GPU 566 (MiB)\n",
      "[04/04/2024-08:31:24] [TRT] [I] The logger passed into createInferRuntime differs from one already provided for an existing builder, runtime, or refitter. Uses of the global logger, returned by nvinfer1::getLogger(), will return the existing value.\n",
      "\n",
      "[04/04/2024-08:31:24] [TRT] [I] Loaded engine size: 124 MiB\n",
      "[04/04/2024-08:31:24] [TRT] [I] [MemUsageChange] Init cuBLAS/cuBLASLt: CPU +0, GPU +0, now: CPU 1103, GPU 10121 (MiB)\n",
      "[04/04/2024-08:31:24] [TRT] [I] [MemUsageChange] Init cuDNN: CPU +0, GPU +0, now: CPU 1103, GPU 10121 (MiB)\n",
      "[04/04/2024-08:31:24] [TRT] [I] [MemUsageChange] TensorRT-managed allocation in engine deserialization: CPU +1, GPU +122, now: CPU 1, GPU 667 (MiB)\n",
      "[04/04/2024-08:31:24] [TRT] [I] [MemUsageChange] Init cuBLAS/cuBLASLt: CPU +0, GPU +0, now: CPU 979, GPU 10006 (MiB)\n",
      "[04/04/2024-08:31:24] [TRT] [I] [MemUsageChange] Init cuDNN: CPU +0, GPU +0, now: CPU 979, GPU 10006 (MiB)\n",
      "[04/04/2024-08:31:24] [TRT] [I] [MemUsageChange] TensorRT-managed allocation in IExecutionContext creation: CPU +0, GPU +103, now: CPU 1, GPU 770 (MiB)\n"
     ]
    }
   ],
   "source": [
    "people_model = people_model_416\n",
    "plates_model = lp_model_960\n",
    "trt_yolo_people = TrtYOLO(people_model[\"trt_path\"], len(people_model[\"names\"]), True)\n",
    "trt_yolo_plates = TrtYOLO(plates_model[\"trt_path\"], len(plates_model[\"names\"]), True)"
   ]
  },
  {
   "cell_type": "code",
   "execution_count": 54,
   "id": "04f6455f-15f4-43b9-a6f2-58bf26096005",
   "metadata": {},
   "outputs": [],
   "source": [
    "video_path = \"/home/ubuntu/code/rv_data/data/nysta/front/short/output.mp4\"\n",
    "cap = cv2.VideoCapture(video_path)"
   ]
  },
  {
   "cell_type": "code",
   "execution_count": 59,
   "id": "201c5873-3804-4b4a-9285-9d9210a7c7b4",
   "metadata": {},
   "outputs": [
    {
     "name": "stderr",
     "output_type": "stream",
     "text": [
      "100%|████████████████████████████████████████████████████████████████████████████████████████████████████████████████████████████████████████████████████████████| 256/256 [00:11<00:00, 21.40it/s]\n"
     ]
    }
   ],
   "source": [
    "_, frame = cap.read()\n",
    "times = []\n",
    "\n",
    "for _ in tqdm_pb(range(256), total=256):\n",
    "    t1 = time.perf_counter()\n",
    "    boxes, confs, clss = trt_yolo_people.detect(frame)\n",
    "    boxes, confs, clss = trt_yolo_plates.detect(frame)\n",
    "    times.append(time.perf_counter() - t1)"
   ]
  },
  {
   "cell_type": "code",
   "execution_count": 60,
   "id": "14dbbd30-32ff-4ec1-bd24-fcc32bc1d3b1",
   "metadata": {},
   "outputs": [
    {
     "data": {
      "text/plain": [
       "21.679259963893575"
      ]
     },
     "execution_count": 60,
     "metadata": {},
     "output_type": "execute_result"
    }
   ],
   "source": [
    "1 / np.mean(np.array(times))"
   ]
  },
  {
   "cell_type": "code",
   "execution_count": null,
   "id": "50ed8f9a-8d12-4387-8d88-3b92d4a3732c",
   "metadata": {},
   "outputs": [],
   "source": [
    "times\n"
   ]
  },
  {
   "cell_type": "code",
   "execution_count": null,
   "id": "c1c3dcf4-3af2-4def-ba4f-87e69bfc5359",
   "metadata": {},
   "outputs": [],
   "source": []
  },
  {
   "cell_type": "code",
   "execution_count": null,
   "id": "8232ef19-43bf-4777-9508-c991876f6e6c",
   "metadata": {},
   "outputs": [],
   "source": []
  }
 ],
 "metadata": {
  "kernelspec": {
   "display_name": "Python 3 (ipykernel)",
   "language": "python",
   "name": "python3"
  },
  "language_info": {
   "codemirror_mode": {
    "name": "ipython",
    "version": 3
   },
   "file_extension": ".py",
   "mimetype": "text/x-python",
   "name": "python",
   "nbconvert_exporter": "python",
   "pygments_lexer": "ipython3",
   "version": "3.8.10"
  }
 },
 "nbformat": 4,
 "nbformat_minor": 5
}
